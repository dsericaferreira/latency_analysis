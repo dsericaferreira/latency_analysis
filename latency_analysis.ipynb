{
 "cells": [
  {
   "cell_type": "code",
   "execution_count": 56,
   "metadata": {},
   "outputs": [],
   "source": [
    "import pandas as pd\n",
    "import random\n",
    "import datetime\n",
    "import json\n",
    "from trycourier import Courier\n",
    "\n",
    "\n",
    "with open('auth_token_courier.json', 'r') as js:\n",
    "    token = json.load(js)\n",
    "\n",
    "client = Courier(auth_token=str(token['auth_token']))\n"
   ]
  },
  {
   "cell_type": "code",
   "execution_count": 81,
   "metadata": {},
   "outputs": [
    {
     "name": "stdout",
     "output_type": "stream",
     "text": [
      "Requirement already satisfied: scikit-learn in /opt/anaconda3/lib/python3.8/site-packages (1.2.1)\n",
      "Requirement already satisfied: threadpoolctl>=2.0.0 in /opt/anaconda3/lib/python3.8/site-packages (from scikit-learn) (2.2.0)\n",
      "Requirement already satisfied: scipy>=1.3.2 in /opt/anaconda3/lib/python3.8/site-packages (from scikit-learn) (1.7.1)\n",
      "Requirement already satisfied: numpy>=1.17.3 in /opt/anaconda3/lib/python3.8/site-packages (from scikit-learn) (1.20.3)\n",
      "Requirement already satisfied: joblib>=1.1.1 in /opt/anaconda3/lib/python3.8/site-packages (from scikit-learn) (1.2.0)\n"
     ]
    }
   ],
   "source": [
    "! pip install scikit-learn"
   ]
  },
  {
   "attachments": {},
   "cell_type": "markdown",
   "metadata": {},
   "source": [
    "Vamos simular a entrada de dados, essa parte pode ser feita via chamada a api ou de alguma outra maneira, \n",
    "mas como na simulação não temos acesso ao produto real, vamos simular uma latência para o horário atual\n",
    "usando um número aleatório que se encaixe entre o min() e o max() apresentado no dataset. "
   ]
  },
  {
   "cell_type": "code",
   "execution_count": 72,
   "metadata": {},
   "outputs": [],
   "source": [
    "centroids = pd.read_excel('model_centroids.xlsx')\n",
    "df = pd.read_excel('data.xlsx')\n",
    "lat = random.randint(min(df['latencies']), max(df['latencies']/3))"
   ]
  },
  {
   "cell_type": "code",
   "execution_count": 73,
   "metadata": {},
   "outputs": [
    {
     "name": "stdout",
     "output_type": "stream",
     "text": [
      "46531.128579\n"
     ]
    }
   ],
   "source": [
    "import datetime\n",
    "\n",
    "date = datetime.datetime.now()\n",
    "mid = datetime.datetime.combine(date.date(), datetime.time.min)\n",
    "seconds = (date - mid).total_seconds()\n",
    "\n",
    "print(seconds)"
   ]
  },
  {
   "cell_type": "code",
   "execution_count": 74,
   "metadata": {},
   "outputs": [
    {
     "data": {
      "text/html": [
       "<div>\n",
       "<style scoped>\n",
       "    .dataframe tbody tr th:only-of-type {\n",
       "        vertical-align: middle;\n",
       "    }\n",
       "\n",
       "    .dataframe tbody tr th {\n",
       "        vertical-align: top;\n",
       "    }\n",
       "\n",
       "    .dataframe thead th {\n",
       "        text-align: right;\n",
       "    }\n",
       "</style>\n",
       "<table border=\"1\" class=\"dataframe\">\n",
       "  <thead>\n",
       "    <tr style=\"text-align: right;\">\n",
       "      <th></th>\n",
       "      <th>Unnamed: 0</th>\n",
       "      <th>latencies</th>\n",
       "      <th>time</th>\n",
       "      <th>labels</th>\n",
       "      <th>Cluster</th>\n",
       "    </tr>\n",
       "  </thead>\n",
       "  <tbody>\n",
       "    <tr>\n",
       "      <th>0</th>\n",
       "      <td>0</td>\n",
       "      <td>127875.500000</td>\n",
       "      <td>41438.875000</td>\n",
       "      <td>0</td>\n",
       "      <td>Ruim</td>\n",
       "    </tr>\n",
       "    <tr>\n",
       "      <th>1</th>\n",
       "      <td>1</td>\n",
       "      <td>535032.000000</td>\n",
       "      <td>68439.000000</td>\n",
       "      <td>1</td>\n",
       "      <td>Péssima</td>\n",
       "    </tr>\n",
       "    <tr>\n",
       "      <th>2</th>\n",
       "      <td>2</td>\n",
       "      <td>9678.663558</td>\n",
       "      <td>42205.442611</td>\n",
       "      <td>2</td>\n",
       "      <td>Boa</td>\n",
       "    </tr>\n",
       "  </tbody>\n",
       "</table>\n",
       "</div>"
      ],
      "text/plain": [
       "   Unnamed: 0      latencies          time  labels  Cluster\n",
       "0           0  127875.500000  41438.875000       0     Ruim\n",
       "1           1  535032.000000  68439.000000       1  Péssima\n",
       "2           2    9678.663558  42205.442611       2      Boa"
      ]
     },
     "execution_count": 74,
     "metadata": {},
     "output_type": "execute_result"
    }
   ],
   "source": [
    "centroids"
   ]
  },
  {
   "cell_type": "code",
   "execution_count": 75,
   "metadata": {},
   "outputs": [],
   "source": [
    "# Vamos calcular a distancia do ponto atual (latencia, time) aos centroides,\n",
    "# Lidaremos com similaridade, logo vamos usar o centroide mais perto do nosso ponto."
   ]
  },
  {
   "cell_type": "code",
   "execution_count": 76,
   "metadata": {},
   "outputs": [],
   "source": [
    "import numpy as np"
   ]
  },
  {
   "cell_type": "code",
   "execution_count": 77,
   "metadata": {},
   "outputs": [],
   "source": [
    "minima = float('inf')\n",
    "cluster = str()\n",
    "for i in range(len(centroids)):\n",
    "    point2 = np.array([lat, seconds])\n",
    "    point1 = np.array([centroids['latencies'][i], centroids['time'][i]])\n",
    "    distance = np.sqrt(np.sum((point2 - point1)**2))\n",
    "  \n",
    "    if distance<minima:\n",
    "        minima = distance\n",
    "        cluster = centroids['Cluster'][i]\n"
   ]
  },
  {
   "cell_type": "code",
   "execution_count": 78,
   "metadata": {},
   "outputs": [
    {
     "data": {
      "text/plain": [
       "'Boa'"
      ]
     },
     "execution_count": 78,
     "metadata": {},
     "output_type": "execute_result"
    }
   ],
   "source": [
    "cluster"
   ]
  },
  {
   "cell_type": "code",
   "execution_count": 79,
   "metadata": {},
   "outputs": [],
   "source": [
    "## Agora vamos a notificação!! Vamos usar uma notificação por email."
   ]
  },
  {
   "attachments": {},
   "cell_type": "markdown",
   "metadata": {},
   "source": [
    "Vou fazer uso do Courier, precisando inicialmente de uma autenticação via google\n",
    "[Courier!](https://app.courier.com/signup)"
   ]
  },
  {
   "cell_type": "code",
   "execution_count": 80,
   "metadata": {},
   "outputs": [],
   "source": [
    "\n",
    "if not cluster in ['Boa']:\n",
    "  resp = client.send_message(\n",
    "    message={\n",
    "      \"to\": {\n",
    "        \"email\": \"dsericaferreira@gmail.com\",\n",
    "      },\n",
    "      \"template\": \"TXF83W7H1V43GGMRRR61NF4DKCZ5\",\n",
    "      \"data\": {\n",
    "      },\n",
    "    }\n",
    "  )\n",
    "\n",
    "  print(resp['requestId'])"
   ]
  }
 ],
 "metadata": {
  "kernelspec": {
   "display_name": "base",
   "language": "python",
   "name": "python3"
  },
  "language_info": {
   "codemirror_mode": {
    "name": "ipython",
    "version": 3
   },
   "file_extension": ".py",
   "mimetype": "text/x-python",
   "name": "python",
   "nbconvert_exporter": "python",
   "pygments_lexer": "ipython3",
   "version": "3.8.8"
  },
  "orig_nbformat": 4
 },
 "nbformat": 4,
 "nbformat_minor": 2
}
